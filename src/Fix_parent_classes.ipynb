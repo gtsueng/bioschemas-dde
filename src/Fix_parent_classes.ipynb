{
 "cells": [
  {
   "cell_type": "markdown",
   "id": "4dedf8da",
   "metadata": {},
   "source": [
    "## A one-off script to fix the parent classes\n",
    "\n",
    "Due to restrictions in the older versions of the DDE, only classes from schema.org or classes from a whitelist of registered namespaces could be extended. As such, the true parent class of a profile had to be altered to reflect the parent class of the type. This is an incorrect representation as profiles are subclasses of types.\n",
    "\n",
    "For example, the CourseMaterial profile is meant to be a more tailored specification based off schema.org's LearningResource type.\n",
    "\n",
    "For this reason, the tables were originally generated using only schema.org classes as parents in order to ensure compatibility with the DDE, even though this is not the most correct representation\n",
    "\n",
    "The DDE has since had many features added in order to improve it's compatibility with the needs of the NIAID systems biology DDWG and Bioschemas communities. For this reason, the parent classes for all the schemas in the DDE need to be updated to ensure accurate representation"
   ]
  },
  {
   "cell_type": "code",
   "execution_count": 2,
   "id": "e2348979",
   "metadata": {},
   "outputs": [],
   "source": [
    "import os\n",
    "import json\n",
    "import pandas as pd"
   ]
  },
  {
   "cell_type": "code",
   "execution_count": 3,
   "id": "45c13321",
   "metadata": {},
   "outputs": [],
   "source": [
    "def convert_to_raw(githuburl): ## Converts a github url to a raw github url\n",
    "    githubrawurl = githuburl.replace('github.com','raw.githubusercontent.com').replace('blob/','').replace('tree/','')\n",
    "    return githubrawurl\n",
    "\n",
    "def load_parent_source():\n",
    "    parent_source_url = 'https://github.com/BioSchemas/bioschemas.github.io/blob/profile-auto-generation/_data/metadata_mapping.csv'\n",
    "    parent_source_df = pd.read_csv(convert_to_raw(parent_source_url), header=0,usecols = ['profile','TypeParent','ProfileParent'])\n",
    "    return parent_source_df\n",
    "\n",
    "def lookup_parent(parent_source_options,classname,spectype):\n",
    "    parent_choices = parent_source_options.loc[parent_source_options['profile']==classname]\n",
    "    if spectype == 'Profile':\n",
    "        parent = parent_choices.iloc[0]['ProfileParent']\n",
    "    else:\n",
    "        parent = parent_choices.iloc[0]['TypeParent']\n",
    "    return parent"
   ]
  },
  {
   "cell_type": "code",
   "execution_count": 5,
   "id": "935b0f51",
   "metadata": {},
   "outputs": [],
   "source": [
    "script_path = ''\n",
    "filenames = ['deprecated.txt','profile_list.txt','draft_profile_list.txt','type_list.txt','draft_type_list.txt']\n",
    "parent_source_df = load_parent_source()\n",
    "\n",
    "for eachfile in filenames:\n",
    "    originaldf = pd.read_csv(os.path.join(script_path,eachfile),delimiter='\\t',header=0)\n",
    "    newdf = originaldf[['namespace','name','type','version','url']].copy()\n",
    "    newdf['subClassOf'] = originaldf.apply(lambda row: lookup_parent(parent_source_df,row['name'],row['type']),axis=1)\n",
    "    ordereddf = newdf[['namespace','name','subClassOf','type','version','url']].copy()\n",
    "    ordereddf.to_csv(os.path.join(script_path,eachfile),sep='\\t',header=True,index=False)"
   ]
  },
  {
   "cell_type": "code",
   "execution_count": null,
   "id": "b9f52259",
   "metadata": {},
   "outputs": [],
   "source": []
  }
 ],
 "metadata": {
  "kernelspec": {
   "display_name": "Python 3 (ipykernel)",
   "language": "python",
   "name": "python3"
  },
  "language_info": {
   "codemirror_mode": {
    "name": "ipython",
    "version": 3
   },
   "file_extension": ".py",
   "mimetype": "text/x-python",
   "name": "python",
   "nbconvert_exporter": "python",
   "pygments_lexer": "ipython3",
   "version": "3.8.5"
  }
 },
 "nbformat": 4,
 "nbformat_minor": 5
}
